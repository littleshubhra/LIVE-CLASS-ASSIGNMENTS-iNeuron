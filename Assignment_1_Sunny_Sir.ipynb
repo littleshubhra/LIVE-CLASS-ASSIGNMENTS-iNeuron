{
  "nbformat": 4,
  "nbformat_minor": 0,
  "metadata": {
    "colab": {
      "provenance": []
    },
    "kernelspec": {
      "name": "python3",
      "display_name": "Python 3"
    },
    "language_info": {
      "name": "python"
    }
  },
  "cells": [
    {
      "cell_type": "markdown",
      "source": [
        "###The 1st question is answered at the end.\n",
        "###Q.2 Take input A and B and print their sum, mul, div, square of the nos.\n",
        "I have started with the 2nd question onwards."
      ],
      "metadata": {
        "id": "vnA9cdVTqRoz"
      }
    },
    {
      "cell_type": "code",
      "source": [
        "A =int (input('first value: '))\n",
        "B =int (input('second value: '))\n",
        "print(f'''The sum of A and B is {A+B}\n",
        "      The product of A and B is {A*B}\n",
        "      The division of Aand B is {A/B}\n",
        "      The square of A is {A**int(2)}\n",
        "      The square of B is {B**int(2)}''')"
      ],
      "metadata": {
        "colab": {
          "base_uri": "https://localhost:8080/"
        },
        "id": "cNneiNbDqnfz",
        "outputId": "4952ad5a-a937-4858-9b61-cde8eae1838f"
      },
      "execution_count": null,
      "outputs": [
        {
          "output_type": "stream",
          "name": "stdout",
          "text": [
            "first value: 30\n",
            "second value: 6\n",
            "The sum of A and B is 36\n",
            "      The product of A and B is 180\n",
            "      The division of Aand B is 5.0\n",
            "      The square of A is 900\n",
            "      The square of B is 36\n"
          ]
        }
      ]
    },
    {
      "cell_type": "markdown",
      "source": [
        "#### another answer of the 2nd question"
      ],
      "metadata": {
        "id": "MfPOqwpUs40h"
      }
    },
    {
      "cell_type": "code",
      "source": [
        " A = int (input('First value: '))\n",
        " B = int (input('Second value: '))\n",
        " print(A+B)\n",
        " print(A*B)\n",
        " print(A/B)\n",
        " print(A**int(2))\n",
        " print(B**int(2)) # this gives the square value.(power of 2 with base B)"
      ],
      "metadata": {
        "colab": {
          "base_uri": "https://localhost:8080/"
        },
        "id": "8Vg72Ie8tKE3",
        "outputId": "426d8299-020c-4d85-feb7-b171c2a41d51"
      },
      "execution_count": null,
      "outputs": [
        {
          "output_type": "stream",
          "name": "stdout",
          "text": [
            "First value: 30\n",
            "Second value: 6\n",
            "36\n",
            "180\n",
            "5.0\n",
            "900\n",
            "36\n"
          ]
        }
      ]
    },
    {
      "cell_type": "markdown",
      "source": [
        "###Q.3. How many reserve keywords are there in python and why we should not use them as a variable name.\n",
        "Answer 3. \n",
        "There are 33 reserved keywords in python. These words should not be used as a variable name, function name or any other identifier because they are specially defined by the python for specific purpose.\n",
        "The program is designed such that , whenever it reads a reserved keyword, it executes it as per the command. If we tamper the command by any means, next time the system can't recognize the reverse keyword and shows error."
      ],
      "metadata": {
        "id": "3DxeUL88uT3h"
      }
    },
    {
      "cell_type": "markdown",
      "source": [],
      "metadata": {
        "id": "DklYMrMtwzYy"
      }
    },
    {
      "cell_type": "markdown",
      "source": [
        "###Q.4.Create email ids with the user inputs. in the following format - lastname.firstname@gmail.com\n",
        "Answer 4.\n"
      ],
      "metadata": {
        "id": "iyVCsOkTw6rQ"
      }
    },
    {
      "cell_type": "code",
      "source": [
        "last_name= input('my last name:')\n",
        "first_name=input('my first name:')\n",
        "print(f\"{last_name}.{first_name}@gmail.com\")"
      ],
      "metadata": {
        "colab": {
          "base_uri": "https://localhost:8080/"
        },
        "id": "lL6wAJUew_K3",
        "outputId": "44384ce7-5fef-4dd6-fcd5-4cc6f21a3052"
      },
      "execution_count": null,
      "outputs": [
        {
          "output_type": "stream",
          "name": "stdout",
          "text": [
            "my last name:nayak\n",
            "my first name:shubhra\n",
            "nayak.shubhra@gmail.com\n"
          ]
        }
      ]
    },
    {
      "cell_type": "markdown",
      "source": [
        "### Q.5. Try to print the following lines -\n",
        "Hi I'm Sunny\n",
        "My address is 22\\3\n",
        "I earn 20$ daily.\n",
        "\n",
        "####Answer 5"
      ],
      "metadata": {
        "id": "QBJBJhj_xz7i"
      }
    },
    {
      "cell_type": "code",
      "source": [
        "print(\"Hi, I am Sunny\")"
      ],
      "metadata": {
        "colab": {
          "base_uri": "https://localhost:8080/"
        },
        "id": "V7LGfjBnx3N9",
        "outputId": "7ee39a0a-ee1b-4142-d676-e22a8bb086df"
      },
      "execution_count": null,
      "outputs": [
        {
          "output_type": "stream",
          "name": "stdout",
          "text": [
            "Hi, I am Sunny\n"
          ]
        }
      ]
    },
    {
      "cell_type": "code",
      "source": [
        "print(\"My address is 22/3\")"
      ],
      "metadata": {
        "colab": {
          "base_uri": "https://localhost:8080/"
        },
        "id": "JbZcZXUry7s5",
        "outputId": "31bf95eb-ff3b-494e-959c-f4781a6e0072"
      },
      "execution_count": null,
      "outputs": [
        {
          "output_type": "stream",
          "name": "stdout",
          "text": [
            "My address is 22/3\n"
          ]
        }
      ]
    },
    {
      "cell_type": "code",
      "source": [
        "print(\"I earn 20$ daily\")"
      ],
      "metadata": {
        "colab": {
          "base_uri": "https://localhost:8080/"
        },
        "id": "pNtDbF3azHdO",
        "outputId": "fc6ffa14-3764-4709-92ae-f8b9598d3347"
      },
      "execution_count": null,
      "outputs": [
        {
          "output_type": "stream",
          "name": "stdout",
          "text": [
            "I earn 20$ daily\n"
          ]
        }
      ]
    },
    {
      "cell_type": "markdown",
      "source": [
        "###Q.6.Take user input (name, address, date of birth etc) to fill a form for your college and print their email IDs\n",
        "\n",
        "#### Answer 6\n"
      ],
      "metadata": {
        "id": "JnKN7jW0zW3a"
      }
    },
    {
      "cell_type": "code",
      "source": [
        "# These details will be used for the college admission purpose.\n",
        "Student_1_name= input('candidate 1:')\n",
        "Student_2_name= input('candidate 2:')\n",
        "Student_1_address= input('add 1:')\n",
        "Student_2_address= input('add 2:')\n",
        "Student_1_dob= input('dob 1:')\n",
        "Student_2_dob= input('dob 2:')\n",
        "print(f'''All of your mail ids are provided as per your inputs\n",
        "{Student_1_name}.{Student_1_address}{Student_1_dob}@gmail.com\n",
        "{Student_2_name}.{Student_2_address}{Student_2_dob}@gmail.com''')"
      ],
      "metadata": {
        "colab": {
          "base_uri": "https://localhost:8080/"
        },
        "id": "JosUJaOMzeVY",
        "outputId": "4f0e4f1f-0419-435e-cf61-05703b8f2091"
      },
      "execution_count": null,
      "outputs": [
        {
          "output_type": "stream",
          "name": "stdout",
          "text": [
            "candidate 1:ahmed\n",
            "candidate 2:rishav\n",
            "add 1:blr\n",
            "add 2:hyd\n",
            "dob 1:03/08/1995\n",
            "dob 2:04/11/1996\n",
            "All of your mail ids are provided as per your inputs\n",
            "ahmed.blr03/08/1995@gmail.com\n",
            "rishav.hyd04/11/1996@gmail.com\n"
          ]
        }
      ]
    },
    {
      "cell_type": "markdown",
      "source": [
        "###Q.7.Convert the following -\n",
        "\"22.4\" into integer\n",
        "\"22\" into complex no.\n",
        "\n",
        "#### Ans. 7"
      ],
      "metadata": {
        "id": "9kV1zF4823pf"
      }
    },
    {
      "cell_type": "code",
      "source": [
        "A= 22.4\n",
        "B =int(A)\n",
        "\n",
        "print(B)\n"
      ],
      "metadata": {
        "colab": {
          "base_uri": "https://localhost:8080/"
        },
        "id": "hEhaZ_WD3BY0",
        "outputId": "203eecd5-075e-4b22-97c8-cb03bad85a8b"
      },
      "execution_count": null,
      "outputs": [
        {
          "output_type": "stream",
          "name": "stdout",
          "text": [
            "22\n"
          ]
        }
      ]
    },
    {
      "cell_type": "code",
      "source": [
        "A= 22\n",
        "B= complex(A)\n",
        "print(B)"
      ],
      "metadata": {
        "colab": {
          "base_uri": "https://localhost:8080/"
        },
        "id": "8QY57EVU3fzt",
        "outputId": "706ce4ab-652f-4ac1-9cca-a0a3deb9013c"
      },
      "execution_count": null,
      "outputs": [
        {
          "output_type": "stream",
          "name": "stdout",
          "text": [
            "(22+0j)\n"
          ]
        }
      ]
    },
    {
      "cell_type": "markdown",
      "source": [
        "###Q.1. ##Find out all the types of error that we have encountered in our lecture and why? Also include the examples.\n",
        "\n",
        "#### Ans 1"
      ],
      "metadata": {
        "id": "9vKZ6Ymu3x1W"
      }
    },
    {
      "cell_type": "markdown",
      "source": [
        "1. Most of the error includes in the syntax. Such as missing the parenthesis like () in the print statement and quotes \"\" in the strings.\n",
        "  Ex: a= shubhra\n",
        "      print(a)\n",
        "\n",
        "2. Sometimes, we start the quote but forget to end it.\n",
        "  Ex: print('Hello, everyone) #It shows syntax error\n",
        "\n",
        "3. In a print statement, keeping double quote inside another double quote shows error. We can solve it by keeping a double quote inside a single quote or vice versa.\n",
        "\n",
        "  Ex: print('my name is \"shubhra\"')\n",
        "\n",
        "4. Forgetting that variable names are case sensitive. \n",
        "Ex: treating Name and name as the same one.\n",
        "\n",
        "5. Trying to add a string and an integer. Sometimes we forget that, an integer inside a quote becomes a string.\n",
        "Ex: a= '56' # it's a string.\n",
        "    b= 67\n",
        "    adding '56' + 67 gives error.\n",
        "\n",
        "6. Using a reserved keyword for variable name. It will show an error.\n",
        "Ex: print= 56\n",
        "print(print)\n",
        "\n",
        "7. While multiassigning the values to the variables,we might end up giving less number of values than required.It will show an error saying 'not enough values to unpack'.\n",
        "Ex: a,b,c= 10,20\n",
        "\n",
        "8. Writing a wrong syntax while converting the input into int.\n",
        "the syntax might be :\n",
        "Ex:  a = input(int('the value of a'))\n",
        "\n",
        "9. Trying to convert a string into a float. Some data types are not convertible.\n",
        "Ex: 'shubhra' can't be written as a decimal .\n",
        "\n",
        "10. Typing capital p for print function in hurry.\n",
        "Ex: Print('hello')"
      ],
      "metadata": {
        "id": "TTcM8tU7ok4S"
      }
    },
    {
      "cell_type": "code",
      "source": [],
      "metadata": {
        "id": "bivKo-zp4qjy"
      },
      "execution_count": null,
      "outputs": []
    }
  ]
}