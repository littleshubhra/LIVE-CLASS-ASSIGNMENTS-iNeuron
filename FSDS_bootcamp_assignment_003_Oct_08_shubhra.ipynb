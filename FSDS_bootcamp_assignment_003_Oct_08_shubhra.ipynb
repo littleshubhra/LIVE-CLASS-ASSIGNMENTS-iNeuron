{
  "nbformat": 4,
  "nbformat_minor": 0,
  "metadata": {
    "colab": {
      "provenance": [],
      "collapsed_sections": []
    },
    "kernelspec": {
      "name": "python3",
      "display_name": "Python 3"
    },
    "language_info": {
      "name": "python"
    }
  },
  "cells": [
    {
      "cell_type": "markdown",
      "source": [
        "# ASSIGNMENTS - Compulsory\n",
        "## Send it before 0000 hrs IST or 12 AM Wednesday\n",
        "\n",
        "## NOTE: Evaluation will be done before next class.\n",
        "\n",
        "## HOW TO SUBMIT: -\n",
        "Download this notebook, Solve it and upload in the google form given in the mail."
      ],
      "metadata": {
        "id": "cyOfbWCdOjEr"
      }
    },
    {
      "cell_type": "markdown",
      "source": [
        "## Python String Manipulation\n",
        "\n",
        "1. Count the number of times `iNeuron` appears in the string.\n",
        "```python\n",
        "text = \"Welcome to iNeuron, You are a part of FSDS Bootcamp 2 in iNeuron. I hope you are enjoying the course by iNeuron\"\n",
        "```\n",
        "2. Check if position `5` to `11` ends with the phrase `iNeuron.` in the string \n",
        "```python\n",
        "txt = \"Hello, welcome to FSDS 2.0 at iNeuron.\"\n",
        "```\n",
        "3. Write a program that takes your full name as input and displays the abbreviations of the first and middle names except the last name which is displayed as it is. For example, if your name is Sunny Bhaveen Chandra, then the output should be S.B.Chandra.\n",
        "\n",
        "4. Join all items in a list into a string, using a hash(`#`) character as separator:\n",
        "```python\n",
        "LIST = [\"My\", \"name\", \"is\", \"Rishav\", \"Dash\"]\n",
        "```\n",
        "5. Write example for the following string manipulation function,\n",
        "\n",
        "  ```\n",
        "  - isdecimal()\n",
        "  - islower()\n",
        "  - isupper()\n",
        "  - isalpha()\n",
        "  - isnumeric()\n",
        "\n",
        "  ```\n",
        "6. Indian PAN card format follows the following formats - \n",
        "    - `AYEPC7894X`\n",
        "    - `ABCDE9999Y`\n",
        "  Take user input for PAN_CARD and validate as per the above example.\n"
      ],
      "metadata": {
        "id": "GT4IytkJMNa-"
      }
    },
    {
      "cell_type": "code",
      "source": [
        "#Q.1 . Count the number of times iNeuron appears in the string.\n",
        "text = \"Welcome to iNeuron, You are a part of FSDS Bootcamp 2 in iNeuron. I hope you are enjoying the course by iNeuron\"\n",
        "text.count('iNeuron')\n"
      ],
      "metadata": {
        "id": "KwVni9gipNi-",
        "colab": {
          "base_uri": "https://localhost:8080/"
        },
        "outputId": "3309dad8-a616-416f-a8a6-9f088a95a345"
      },
      "execution_count": 1,
      "outputs": [
        {
          "output_type": "execute_result",
          "data": {
            "text/plain": [
              "3"
            ]
          },
          "metadata": {},
          "execution_count": 1
        }
      ]
    },
    {
      "cell_type": "code",
      "source": [
        "#Q.2 . Check if position 5 to 11 ends with the phrase iNeuron. in the string\n",
        "txt = \"Hello, welcome to FSDS 2.0 at iNeuron.\"\n",
        "txt[5:11]\n",
        "# to call ineuron we need to give -8 to -1 index."
      ],
      "metadata": {
        "colab": {
          "base_uri": "https://localhost:8080/",
          "height": 36
        },
        "id": "b8Rx-kmNjCA0",
        "outputId": "0f7f86bd-ce3e-4476-809a-21323e2dcb43"
      },
      "execution_count": 2,
      "outputs": [
        {
          "output_type": "execute_result",
          "data": {
            "text/plain": [
              "', welc'"
            ],
            "application/vnd.google.colaboratory.intrinsic+json": {
              "type": "string"
            }
          },
          "metadata": {},
          "execution_count": 2
        }
      ]
    },
    {
      "cell_type": "code",
      "source": [
        "#Q.3 . Write a program that takes your full name as input and displays the abbreviations of the first and middle names except the last name which is displayed as it is. For example, if your name is Sunny Bhaveen Chandra, then the output should be S.B.Chandra.\n",
        "name='Little Shubhra Nayak'\n",
        "first_name=name[0]\n",
        "middle_name=name[7]\n",
        "Last_name=name[15:]\n",
        "\n",
        "print(f'your name is : {first_name}.{middle_name}.{Last_name}')\n",
        "\n"
      ],
      "metadata": {
        "colab": {
          "base_uri": "https://localhost:8080/"
        },
        "id": "kogyzp4dlsuQ",
        "outputId": "6613bf52-0dd8-40c8-c77f-f6a686899e24"
      },
      "execution_count": 5,
      "outputs": [
        {
          "output_type": "stream",
          "name": "stdout",
          "text": [
            "your name is : L.S.Nayak\n"
          ]
        }
      ]
    },
    {
      "cell_type": "code",
      "source": [
        "#Q.4 . Join all items in a list into a string, using a hash(#) character as separator:\n",
        "LIST = [\"My\", \"name\", \"is\", \"Rishav\", \"Dash\"]\n",
        "print(f'your required output is:  {LIST[0]}#{LIST[1]}#{LIST[2]}#{LIST[3]}#{LIST[4]}')"
      ],
      "metadata": {
        "colab": {
          "base_uri": "https://localhost:8080/"
        },
        "id": "SBUBrQgBng7L",
        "outputId": "8a109ea8-d9f8-4dcd-f780-d8ce3b4dfa97"
      },
      "execution_count": 7,
      "outputs": [
        {
          "output_type": "stream",
          "name": "stdout",
          "text": [
            "your required output is:  My#name#is#Rishav#Dash\n"
          ]
        }
      ]
    },
    {
      "cell_type": "code",
      "source": [
        "#Q.5 .Write example for the following string manipulation function\n",
        "#isdecimal()\n",
        "# islower()\n",
        "# isupper()\n",
        "# isalpha()\n",
        "# isnumeric()\n",
        "word='678'\n",
        "\n",
        "word.isdecimal()\n"
      ],
      "metadata": {
        "colab": {
          "base_uri": "https://localhost:8080/"
        },
        "id": "Rz6T3mtIoeU2",
        "outputId": "ea87f2e0-805c-486e-a440-67c3de5859d9"
      },
      "execution_count": 12,
      "outputs": [
        {
          "output_type": "execute_result",
          "data": {
            "text/plain": [
              "True"
            ]
          },
          "metadata": {},
          "execution_count": 12
        }
      ]
    },
    {
      "cell_type": "code",
      "source": [
        "name='shubhra'  #all the characters must be in the lower case\n",
        "name.islower()"
      ],
      "metadata": {
        "colab": {
          "base_uri": "https://localhost:8080/"
        },
        "id": "pTyrrFIzvcnN",
        "outputId": "edfcdb76-b1af-4c32-b9f8-5baefc70b2ba"
      },
      "execution_count": 13,
      "outputs": [
        {
          "output_type": "execute_result",
          "data": {
            "text/plain": [
              "True"
            ]
          },
          "metadata": {},
          "execution_count": 13
        }
      ]
    },
    {
      "cell_type": "code",
      "source": [
        "name_1='LITTLE SHUBHRA' #all the characters must be in the upper case\n",
        "name_1.isupper()"
      ],
      "metadata": {
        "colab": {
          "base_uri": "https://localhost:8080/"
        },
        "id": "ia4gvGXsvhXk",
        "outputId": "a3737dda-dd45-473e-d907-0521cfe6f2d2"
      },
      "execution_count": 14,
      "outputs": [
        {
          "output_type": "execute_result",
          "data": {
            "text/plain": [
              "True"
            ]
          },
          "metadata": {},
          "execution_count": 14
        }
      ]
    },
    {
      "cell_type": "code",
      "source": [
        "name_2='shubhra897' #all the characters must be alphabet otherwise it is false\n",
        "name_2.isalpha()"
      ],
      "metadata": {
        "colab": {
          "base_uri": "https://localhost:8080/"
        },
        "id": "SeoDoG1tvmVg",
        "outputId": "a7459649-69d7-42ff-bc59-0d20f7bcdb27"
      },
      "execution_count": 15,
      "outputs": [
        {
          "output_type": "execute_result",
          "data": {
            "text/plain": [
              "False"
            ]
          },
          "metadata": {},
          "execution_count": 15
        }
      ]
    },
    {
      "cell_type": "code",
      "source": [
        "name_2='shubhra897' #all the charactrs must be numericals otherwise it is false\n",
        "name_2.isnumeric()"
      ],
      "metadata": {
        "colab": {
          "base_uri": "https://localhost:8080/"
        },
        "id": "oaqopMMVvsrM",
        "outputId": "cbda721b-341c-4f53-cb27-14828675e881"
      },
      "execution_count": 16,
      "outputs": [
        {
          "output_type": "execute_result",
          "data": {
            "text/plain": [
              "False"
            ]
          },
          "metadata": {},
          "execution_count": 16
        }
      ]
    },
    {
      "cell_type": "code",
      "source": [
        "word_2='44564'\n",
        "word_2.isnumeric()"
      ],
      "metadata": {
        "colab": {
          "base_uri": "https://localhost:8080/"
        },
        "id": "IyYgDrZmwULS",
        "outputId": "9ae60dc1-201b-48e4-fb70-32975d2e3135"
      },
      "execution_count": 18,
      "outputs": [
        {
          "output_type": "execute_result",
          "data": {
            "text/plain": [
              "True"
            ]
          },
          "metadata": {},
          "execution_count": 18
        }
      ]
    },
    {
      "cell_type": "code",
      "source": [
        "#Q.6. Indian PAN card format follows the following formats -\n",
        "#AYEPC7894X\n",
        "#ABCDE9999Y Take user input for PAN_CARD and validate as per the above example.\n",
        "user=input('enter your PAN CARD number:')\n",
        "last=user[9]\n",
        "num=user[6:10]\n",
        "\n",
        "if user.isalnum and len(user)==10 and last.isalpha and num.isdigit:\n",
        "   print('You have entered a valid PAN number')\n",
        "else:\n",
        "  print('Your have entered an invalid PAN number')\n",
        "  print('please enter a valid PAN number')"
      ],
      "metadata": {
        "colab": {
          "base_uri": "https://localhost:8080/"
        },
        "id": "7-qlO1-8xCXa",
        "outputId": "627ca49f-80fb-47c8-ee62-d227c78e5493"
      },
      "execution_count": 22,
      "outputs": [
        {
          "output_type": "stream",
          "name": "stdout",
          "text": [
            "enter your PAN CARD number:BJMNP2345W\n",
            "You have entered a valid PAN number\n"
          ]
        }
      ]
    }
  ]
}