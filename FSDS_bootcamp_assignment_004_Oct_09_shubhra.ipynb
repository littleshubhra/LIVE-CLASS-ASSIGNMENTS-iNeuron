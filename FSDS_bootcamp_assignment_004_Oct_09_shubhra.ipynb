{
  "nbformat": 4,
  "nbformat_minor": 0,
  "metadata": {
    "colab": {
      "provenance": [],
      "collapsed_sections": []
    },
    "kernelspec": {
      "name": "python3",
      "display_name": "Python 3"
    },
    "language_info": {
      "name": "python"
    }
  },
  "cells": [
    {
      "cell_type": "markdown",
      "source": [
        "# ASSIGNMENTS \n",
        "## Send it before 0000 hrs IST or 12 AM Wednesday\n",
        "\n",
        "## NOTE: Evaluation will be done before next class.\n",
        "\n",
        "## HOW TO SUBMIT: -\n",
        "Download this notebook, Solve it and upload in the google form given in the mail."
      ],
      "metadata": {
        "id": "dkGbTD94s6CD"
      }
    },
    {
      "cell_type": "markdown",
      "source": [
        "## control flow and conditional statements"
      ],
      "metadata": {
        "id": "n3FuI-mutNl6"
      }
    },
    {
      "cell_type": "markdown",
      "source": [
        "Q1. Find the largest number from the given list, use for loop.\n",
        "\n",
        "```\n",
        "numbers = [12, 75, 150, 180, 145, 525, 50]\n",
        "```"
      ],
      "metadata": {
        "id": "NCW2epdyuJ-a"
      }
    },
    {
      "cell_type": "markdown",
      "source": [
        "Q2. Print all the even number between (1, 12)."
      ],
      "metadata": {
        "id": "Qsg0i1fTwEQj"
      }
    },
    {
      "cell_type": "markdown",
      "source": [
        "Q3. Calculate the sum of all numbers from 1 to a given number\n",
        "    \n",
        "    Expected Output:\n",
        "\n",
        "    Enter number 10\n",
        "    \n",
        "    Sum is:  55\n"
      ],
      "metadata": {
        "id": "WG2QcDDhwi4a"
      }
    },
    {
      "cell_type": "markdown",
      "source": [
        "Q4. Write a program to display only those numbers from a list that satisfy the following conditions\n",
        "\n",
        "- The number must be divisible by five\n",
        "\n",
        "- If the number is greater than 150, then skip it and move to the next number\n",
        "\n",
        "- If the number is greater than 500, then stop the loop"
      ],
      "metadata": {
        "id": "mc7lLUm5f4Cq"
      }
    },
    {
      "cell_type": "code",
      "source": [
        "# Given:\n",
        "\n",
        "numbers = [12, 75, 150, 180, 145, 525, 50]"
      ],
      "metadata": {
        "id": "P3Ct2ocKf6Hy"
      },
      "execution_count": null,
      "outputs": []
    },
    {
      "cell_type": "markdown",
      "source": [
        "Q5. Print the given list in reverse order.\n",
        "\n",
        "```\n",
        "list1 = [10, 20, 30, 40, 50]\n",
        "```"
      ],
      "metadata": {
        "id": "rrxWvy7nMnAs"
      }
    },
    {
      "cell_type": "code",
      "source": [
        "#Q.1. Find the largest number from the given list, use for loop\n",
        "numbers = [12, 75, 150, 180, 145, 525, 50]\n",
        "largest_num=numbers[0]\n",
        "for i in numbers:\n",
        "    if i>largest_num:\n",
        "      largest_num=i\n",
        "      print(largest_num) \n",
        "  \n"
      ],
      "metadata": {
        "id": "z-GDgPn3Nr0y",
        "colab": {
          "base_uri": "https://localhost:8080/"
        },
        "outputId": "7e472df9-0c20-4d6f-f2c8-6f42104de518"
      },
      "execution_count": 40,
      "outputs": [
        {
          "output_type": "stream",
          "name": "stdout",
          "text": [
            "75\n",
            "150\n",
            "180\n",
            "525\n"
          ]
        }
      ]
    },
    {
      "cell_type": "code",
      "source": [
        "numbers = [12, 75, 150, 180, 145, 525, 50]\n",
        "largest =max(numbers)\n",
        "print(largest)"
      ],
      "metadata": {
        "colab": {
          "base_uri": "https://localhost:8080/"
        },
        "id": "oHvjY5J7OemP",
        "outputId": "f9478be8-e465-454a-defa-81106e5e6887"
      },
      "execution_count": 41,
      "outputs": [
        {
          "output_type": "stream",
          "name": "stdout",
          "text": [
            "525\n"
          ]
        }
      ]
    },
    {
      "cell_type": "code",
      "source": [
        "#Q.2. Print all the even number between (1, 12).\n",
        "for i in range(1,12):\n",
        "  if i%2==0:\n",
        "    print(i)\n",
        "  i=i+1"
      ],
      "metadata": {
        "id": "tjvMN7QK5M6d",
        "colab": {
          "base_uri": "https://localhost:8080/"
        },
        "outputId": "5cf9842b-0cdf-46a2-8fbf-6c81dec9eb57"
      },
      "execution_count": null,
      "outputs": [
        {
          "output_type": "stream",
          "name": "stdout",
          "text": [
            "2\n",
            "4\n",
            "6\n",
            "8\n",
            "10\n"
          ]
        }
      ]
    },
    {
      "cell_type": "code",
      "source": [
        "#Q.3. Calculate the sum of all numbers from 1 to a given number\n",
        "#Expected Output:\n",
        "#Enter number 10\n",
        "#Sum is:  55\n",
        "n =int(input('enter a number: '))\n",
        "for i in range(1,n+1):\n",
        "  x= i*(i+1)//2\n",
        "  print(f'The sum of the number 1 to {i} is:{x}')\n",
        "  "
      ],
      "metadata": {
        "id": "SHI3DtkQ5WUP",
        "colab": {
          "base_uri": "https://localhost:8080/"
        },
        "outputId": "a67ea428-c012-49bc-b249-0e87d9a39ebf"
      },
      "execution_count": 23,
      "outputs": [
        {
          "output_type": "stream",
          "name": "stdout",
          "text": [
            "enter a number: 10\n",
            "The sum of the number 1 to 1 is:1\n",
            "The sum of the number 1 to 2 is:3\n",
            "The sum of the number 1 to 3 is:6\n",
            "The sum of the number 1 to 4 is:10\n",
            "The sum of the number 1 to 5 is:15\n",
            "The sum of the number 1 to 6 is:21\n",
            "The sum of the number 1 to 7 is:28\n",
            "The sum of the number 1 to 8 is:36\n",
            "The sum of the number 1 to 9 is:45\n",
            "The sum of the number 1 to 10 is:55\n"
          ]
        }
      ]
    },
    {
      "cell_type": "code",
      "source": [
        "#Q.4. Write a program to display only those numbers from a list that satisfy the following conditions\n",
        "#The number must be divisible by five\n",
        "#If the number is greater than 150, then skip it and move to the next number\n",
        "#If the number is greater than 500, then stop the loop\n",
        "# Given:\n",
        "\n",
        "numbers = [12, 75, 150, 180, 145, 525, 50]"
      ],
      "metadata": {
        "id": "XjO6VqD15sfJ"
      },
      "execution_count": null,
      "outputs": []
    },
    {
      "cell_type": "code",
      "source": [
        "#The number must be divisible by five\n",
        "numbers = [12, 75, 150, 180, 145, 525, 50]\n",
        "for i in numbers:\n",
        "  if i%5==0:\n",
        "   print(i)\n",
        "   print('this number is divisible by five')\n",
        "  "
      ],
      "metadata": {
        "colab": {
          "base_uri": "https://localhost:8080/"
        },
        "id": "ySBF99rY-gLz",
        "outputId": "2a98b1f2-9016-4aa5-dac1-929fc27d24fb"
      },
      "execution_count": null,
      "outputs": [
        {
          "output_type": "stream",
          "name": "stdout",
          "text": [
            "75\n",
            "this number is divisible by five\n",
            "150\n",
            "this number is divisible by five\n",
            "180\n",
            "this number is divisible by five\n",
            "145\n",
            "this number is divisible by five\n",
            "525\n",
            "this number is divisible by five\n",
            "50\n",
            "this number is divisible by five\n"
          ]
        }
      ]
    },
    {
      "cell_type": "code",
      "source": [
        "#If the number is greater than 150, then skip it and move to the next number\n",
        "numbers = [12, 75, 150, 180, 145, 525, 50]\n",
        "for i in numbers:\n",
        "  if i<150:\n",
        "    print(i)\n",
        "  continue\n",
        "  "
      ],
      "metadata": {
        "id": "N-QyOitY_Rqm",
        "colab": {
          "base_uri": "https://localhost:8080/"
        },
        "outputId": "c709f8c3-efac-4c8e-ded8-d01a3b53eea7"
      },
      "execution_count": 6,
      "outputs": [
        {
          "output_type": "stream",
          "name": "stdout",
          "text": [
            "12\n",
            "75\n",
            "145\n",
            "50\n"
          ]
        }
      ]
    },
    {
      "cell_type": "code",
      "source": [
        "#If the number is greater than 500, then stop the loop\n",
        "numbers = [12, 75, 150, 180, 145, 525, 50]\n",
        "for i in numbers:\n",
        "   if i<500:\n",
        "     print(i)\n",
        "     \n",
        "     \n",
        "     "
      ],
      "metadata": {
        "colab": {
          "base_uri": "https://localhost:8080/"
        },
        "id": "_5I9G2ieEH1c",
        "outputId": "895de2f1-46d6-4ebf-b75a-857b10008ddd"
      },
      "execution_count": 17,
      "outputs": [
        {
          "output_type": "stream",
          "name": "stdout",
          "text": [
            "12\n",
            "75\n",
            "150\n",
            "180\n",
            "145\n",
            "50\n"
          ]
        }
      ]
    },
    {
      "cell_type": "code",
      "source": [
        "#Q.5. Print the given list in reverse order.\n",
        "list1 = [10, 20, 30, 40, 50]\n",
        "list1[::-1]"
      ],
      "metadata": {
        "id": "isMZWopz6C8u",
        "colab": {
          "base_uri": "https://localhost:8080/"
        },
        "outputId": "16724bd7-6e32-4d92-88f5-1dddee324125"
      },
      "execution_count": null,
      "outputs": [
        {
          "output_type": "execute_result",
          "data": {
            "text/plain": [
              "[50, 40, 30, 20, 10]"
            ]
          },
          "metadata": {},
          "execution_count": 2
        }
      ]
    }
  ]
}